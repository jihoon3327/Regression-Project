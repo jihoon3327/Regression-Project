{
 "cells": [
  {
   "cell_type": "code",
   "execution_count": 27,
   "id": "cb478f0e",
   "metadata": {},
   "outputs": [
    {
     "name": "stdout",
     "output_type": "stream",
     "text": [
      "Collecting openpyxl\n",
      "  Downloading openpyxl-3.0.7-py2.py3-none-any.whl (243 kB)\n",
      "\u001b[K     |████████████████████████████████| 243 kB 923 kB/s eta 0:00:01\n",
      "\u001b[?25hCollecting et-xmlfile\n",
      "  Downloading et_xmlfile-1.1.0-py3-none-any.whl (4.7 kB)\n",
      "Installing collected packages: et-xmlfile, openpyxl\n",
      "Successfully installed et-xmlfile-1.1.0 openpyxl-3.0.7\n"
     ]
    }
   ],
   "source": [
    "!pip install openpyxl"
   ]
  },
  {
   "cell_type": "code",
   "execution_count": 28,
   "id": "79e9f8c1",
   "metadata": {},
   "outputs": [
    {
     "name": "stdout",
     "output_type": "stream",
     "text": [
      "pandas version:  1.2.4\n"
     ]
    }
   ],
   "source": [
    "import pandas as pd\n",
    "print(\"pandas version: \", pd.__version__)\n",
    "pd.set_option('display.max_row', 500)\n",
    "pd.set_option('display.max_columns', 100)\n",
    "import openpyxl"
   ]
  },
  {
   "cell_type": "code",
   "execution_count": 1,
   "id": "306848b7",
   "metadata": {},
   "outputs": [],
   "source": [
    "august_options = pd.read_csv(\"./august_options.csv\", index_col=0)\n",
    "july_options = pd.read_csv(\"./july_options.csv\", index_col=0)\n",
    "june_options = pd.read_csv(\"./june_options.csv\", index_col=0)\n",
    "may_options = pd.read_csv(\"./may_options.csv\", index_col=0)"
   ]
  },
  {
   "cell_type": "code",
   "execution_count": 2,
   "id": "1c16785c",
   "metadata": {},
   "outputs": [],
   "source": [
    "august_rentcar = pd.read_csv(\"./august_rentcar.csv\", index_col=0)\n",
    "july_rentcar = pd.read_csv(\"./july_rentcar.csv\", index_col=0)\n",
    "june_rentcar = pd.read_csv(\"./june_rentcar.csv\", index_col=0)\n",
    "may_rentcar = pd.read_csv(\"./may_rentcar.csv\", index_col=0)"
   ]
  },
  {
   "cell_type": "code",
   "execution_count": 9,
   "id": "ba4e95e7",
   "metadata": {},
   "outputs": [],
   "source": [
    "options = pd.concat([may_options, june_options, july_options, august_options])"
   ]
  },
  {
   "cell_type": "code",
   "execution_count": 10,
   "id": "a65b8fb0",
   "metadata": {},
   "outputs": [],
   "source": [
    "rentcar = pd.concat([may_rentcar, june_rentcar, july_rentcar, august_rentcar])"
   ]
  },
  {
   "cell_type": "code",
   "execution_count": 14,
   "id": "ad6c2253",
   "metadata": {},
   "outputs": [],
   "source": [
    "jejurent = pd.concat([rentcar, options], axis=1)"
   ]
  },
  {
   "cell_type": "code",
   "execution_count": 18,
   "id": "7a67adb5",
   "metadata": {},
   "outputs": [],
   "source": [
    "jejurent.to_csv(\"./jejurent.csv\")"
   ]
  },
  {
   "cell_type": "code",
   "execution_count": 29,
   "id": "89319e0c",
   "metadata": {},
   "outputs": [],
   "source": [
    "jejurent.to_excel(\"./jejurent.xlsx\")"
   ]
  }
 ],
 "metadata": {
  "kernelspec": {
   "display_name": "Python 3",
   "language": "python",
   "name": "python3"
  },
  "language_info": {
   "codemirror_mode": {
    "name": "ipython",
    "version": 3
   },
   "file_extension": ".py",
   "mimetype": "text/x-python",
   "name": "python",
   "nbconvert_exporter": "python",
   "pygments_lexer": "ipython3",
   "version": "3.8.8"
  }
 },
 "nbformat": 4,
 "nbformat_minor": 5
}
